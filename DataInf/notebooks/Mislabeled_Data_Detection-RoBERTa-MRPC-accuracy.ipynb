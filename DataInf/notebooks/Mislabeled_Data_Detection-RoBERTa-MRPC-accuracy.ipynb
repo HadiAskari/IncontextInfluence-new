{
 "cells": [
  {
   "cell_type": "markdown",
   "id": "2768f438",
   "metadata": {},
   "source": [
    "# Mislabeled data detection - RoBERTa-MRPC\n",
    "\n",
    "This notebook demonstrates how to efficiently compute the influence functions using DataInf, showing its application to **mislabeled data detection** tasks.\n",
    "\n",
    "- Model: Robert-large (https://arxiv.org/abs/1907.11692; pretrained with BOOKCORPUS, WIKIPEDIA, CC-NEWS, to name a few)\n",
    "- Fine-tuning dataset: GLUE-mrpc\n",
    "    - What is MRPC? The Microsoft Research Paraphrase Corpus (Dolan & Brockett, 2005) is a corpus of sentence pairs automatically extracted from online news sources, with human annotations for whether the sentences in the pair are semantically equivalent.\n",
    "\n",
    "References\n",
    "- https://github.com/huggingface/peft/blob/main/examples/sequence_classification/LoRA.ipynb\n",
    "- DataInf is available at this [ArXiv link](https://arxiv.org/abs/2310.00902)."
   ]
  },
  {
   "cell_type": "code",
   "execution_count": 1,
   "id": "625da945",
   "metadata": {},
   "outputs": [],
   "source": [
    "import sys\n",
    "sys.path.append('../src')\n",
    "from dataloader import create_dataloaders, load_noisy_dataset_by_task\n",
    "from lora_model import LORAEngine\n",
    "from influence import IFEngine\n",
    "\n",
    "import numpy as np\n",
    "from sklearn.metrics import roc_auc_score\n",
    "from matplotlib import pyplot as plt\n",
    "import os"
   ]
  },
  {
   "cell_type": "markdown",
   "id": "abaeb117",
   "metadata": {},
   "source": [
    "## Set up hyperparameters and LoRA models"
   ]
  },
  {
   "cell_type": "code",
   "execution_count": 2,
   "id": "025c666b",
   "metadata": {},
   "outputs": [],
   "source": [
    "model_name_or_path=\"roberta-large\"\n",
    "task=\"qnli\"\n",
    "noise_ratio=0.2\n",
    "batch_size=32\n",
    "target_modules=[\"value\"]\n",
    "device=\"cuda:4\"\n",
    "num_epochs=10\n",
    "lr=3e-4"
   ]
  },
  {
   "cell_type": "code",
   "execution_count": 3,
   "id": "5e107272",
   "metadata": {},
   "outputs": [],
   "source": [
    "mrpc_02_noise, noise_added=load_noisy_dataset_by_task(task=\"qnli\", noise_ratio=0.2)"
   ]
  },
  {
   "cell_type": "code",
   "execution_count": 4,
   "id": "73f58bfd",
   "metadata": {},
   "outputs": [
    {
     "data": {
      "text/plain": [
       "DatasetDict({\n",
       "    train: Dataset({\n",
       "        features: ['question', 'sentence', 'label', 'idx'],\n",
       "        num_rows: 4500\n",
       "    })\n",
       "    validation: Dataset({\n",
       "        features: ['question', 'sentence', 'label', 'idx'],\n",
       "        num_rows: 500\n",
       "    })\n",
       "    test: Dataset({\n",
       "        features: ['question', 'sentence', 'label', 'idx'],\n",
       "        num_rows: 5463\n",
       "    })\n",
       "})"
      ]
     },
     "execution_count": 4,
     "metadata": {},
     "output_type": "execute_result"
    }
   ],
   "source": [
    "mrpc_02_noise"
   ]
  },
  {
   "cell_type": "code",
   "execution_count": 5,
   "id": "9a19ed8b",
   "metadata": {},
   "outputs": [],
   "source": [
    "# task_to_keys = {\n",
    "#     \"cola\": (\"sentence\", None),\n",
    "#     \"mrpc\": (\"sentence1\", \"sentence2\"),\n",
    "#     \"qnli\": (\"question\", \"sentence\"),\n",
    "#     \"qqp\": (\"question1\", \"question2\"),\n",
    "#     \"rte\": (\"sentence1\", \"sentence2\"),\n",
    "#     \"sst2\": (\"sentence\", None),\n",
    "#     \"wnli\": (\"sentence1\", \"sentence2\"),\n",
    "# }\n",
    "\n",
    "# tokenizer = AutoTokenizer.from_pretrained(model_name_or_path, padding_side=\"right\")\n",
    "# tokenizer.pad_token = tokenizer.eos_token\n",
    "# tokenizer.pad_token_id = tokenizer.eos_token_id\n",
    "\n",
    "# sentence1_key, sentence2_key = task_to_keys[task]\n",
    "# def tokenize_function(examples, max_length=128):\n",
    "#     # max_length=None => use the model max length (it's actually the default)\n",
    "#     if sentence2_key is None:\n",
    "#         outputs = tokenizer(examples[sentence1_key], truncation=True, max_length=max_length)\n",
    "#     else:\n",
    "#         outputs = tokenizer(examples[sentence1_key], examples[sentence2_key], truncation=True, max_length=max_length)\n",
    "#     return outputs\n",
    "\n",
    "# if sentence2_key is None:\n",
    "#         tokenized_datasets = noisy_datasets.map(\n",
    "#             tokenize_function,\n",
    "#             batched=True, \n",
    "#             remove_columns=[\"idx\", sentence1_key],\n",
    "#         )\n",
    "# else:\n",
    "#     tokenized_datasets = noisy_datasets.map(\n",
    "#         tokenize_function,\n",
    "#         batched=True,\n",
    "#         remove_columns=[\"idx\", sentence1_key, sentence2_key],\n",
    "#     )\n",
    "\n",
    "# # We also rename the 'label' column to 'labels' which is the expected name for labels by the models of the\n",
    "# # transformers library\n",
    "# tokenized_datasets = tokenized_datasets.rename_column(\"label\", \"labels\")\n",
    "\n",
    "# def collate_fn(examples):\n",
    "#     return tokenizer.pad(examples, padding=\"longest\", return_tensors=\"pt\")  \n",
    "\n",
    "\n",
    "# train_dataloader = DataLoader(tokenized_datasets[\"train\"],\n",
    "#                                 shuffle=False, \n",
    "#                                 collate_fn=collate_fn,\n",
    "#                                 batch_size=batch_size)\n",
    "# eval_dataloader = DataLoader(tokenized_datasets[\"validation\"], \n",
    "#                                 shuffle=False, \n",
    "#                                 collate_fn=collate_fn, \n",
    "#                                 batch_size=batch_size)"
   ]
  },
  {
   "cell_type": "code",
   "execution_count": 6,
   "id": "dca49588",
   "metadata": {},
   "outputs": [],
   "source": [
    "# dataloader_outputs = create_dataloaders(model_name_or_path=model_name_or_path,\n",
    "#                                            task=task,\n",
    "#                                            noise_ratio=noise_ratio,\n",
    "#                                            batch_size=batch_size)\n",
    "# check_train_dataloader, check_eval_dataloader, check_noise_index, check_tokenized_datasets, check_collate_fn = dataloader_outputs"
   ]
  },
  {
   "cell_type": "code",
   "execution_count": 7,
   "id": "9e778490",
   "metadata": {},
   "outputs": [
    {
     "name": "stderr",
     "output_type": "stream",
     "text": [
      "/home/haskari/miniconda3/envs/influence/lib/python3.11/site-packages/huggingface_hub/file_download.py:1150: FutureWarning: `resume_download` is deprecated and will be removed in version 1.0.0. Downloads always resume when possible. If you want to force a new download, use `force_download=True`.\n",
      "  warnings.warn(\n"
     ]
    },
    {
     "data": {
      "application/vnd.jupyter.widget-view+json": {
       "model_id": "c7f1e87337a042be875109f9f4384057",
       "version_major": 2,
       "version_minor": 0
      },
      "text/plain": [
       "Map:   0%|          | 0/500 [00:00<?, ? examples/s]"
      ]
     },
     "metadata": {},
     "output_type": "display_data"
    }
   ],
   "source": [
    "# fine-tuning models\n",
    "dataloader_outputs = create_dataloaders(model_name_or_path=model_name_or_path,\n",
    "                                           task=task,\n",
    "                                           noise_ratio=noise_ratio,\n",
    "                                           batch_size=batch_size)\n",
    "train_dataloader, eval_dataloader, noise_index, tokenized_datasets, collate_fn = dataloader_outputs\n",
    "\n",
    "\n",
    "\n",
    "lora_engine = LORAEngine(model_name_or_path=model_name_or_path,\n",
    "                            target_modules=target_modules,\n",
    "                            train_dataloader=train_dataloader,\n",
    "                            eval_dataloader=eval_dataloader,\n",
    "                            device=device,\n",
    "                            num_epochs=num_epochs,\n",
    "                            lr=lr,\n",
    "                            low_rank=8, \n",
    "                            task=task)"
   ]
  },
  {
   "cell_type": "markdown",
   "id": "f19785d2",
   "metadata": {},
   "source": [
    "## Fine-tune a model"
   ]
  },
  {
   "cell_type": "code",
   "execution_count": 8,
   "id": "cdc767be",
   "metadata": {},
   "outputs": [
    {
     "name": "stderr",
     "output_type": "stream",
     "text": [
      "huggingface/tokenizers: The current process just got forked, after parallelism has already been used. Disabling parallelism to avoid deadlocks...\n",
      "To disable this warning, you can either:\n",
      "\t- Avoid using `tokenizers` before the fork if possible\n",
      "\t- Explicitly set the environment variable TOKENIZERS_PARALLELISM=(true | false)\n"
     ]
    },
    {
     "name": "stdout",
     "output_type": "stream",
     "text": [
      "Tue Sep 24 20:44:59 2024       \n",
      "+-----------------------------------------------------------------------------------------+\n",
      "| NVIDIA-SMI 560.35.03              Driver Version: 560.35.03      CUDA Version: 12.6     |\n",
      "|-----------------------------------------+------------------------+----------------------+\n",
      "| GPU  Name                 Persistence-M | Bus-Id          Disp.A | Volatile Uncorr. ECC |\n",
      "| Fan  Temp   Perf          Pwr:Usage/Cap |           Memory-Usage | GPU-Util  Compute M. |\n",
      "|                                         |                        |               MIG M. |\n",
      "|=========================================+========================+======================|\n",
      "|   0  NVIDIA RTX 6000 Ada Gene...    Off |   00000000:03:00.0 Off |                  Off |\n",
      "| 30%   45C    P0             96W /  300W |   45892MiB /  49140MiB |     18%      Default |\n",
      "|                                         |                        |                  N/A |\n",
      "+-----------------------------------------+------------------------+----------------------+\n",
      "|   1  NVIDIA RTX 6000 Ada Gene...    Off |   00000000:04:00.0 Off |                  Off |\n",
      "| 30%   46C    P0            103W /  300W |   45908MiB /  49140MiB |     18%      Default |\n",
      "|                                         |                        |                  N/A |\n",
      "+-----------------------------------------+------------------------+----------------------+\n",
      "|   2  NVIDIA RTX 6000 Ada Gene...    Off |   00000000:43:00.0 Off |                  Off |\n",
      "| 30%   46C    P0            120W /  300W |   45934MiB /  49140MiB |     35%      Default |\n",
      "|                                         |                        |                  N/A |\n",
      "+-----------------------------------------+------------------------+----------------------+\n",
      "|   3  NVIDIA RTX 6000 Ada Gene...    Off |   00000000:44:00.0 Off |                  Off |\n",
      "| 31%   46C    P0            118W /  300W |   45936MiB /  49140MiB |     29%      Default |\n",
      "|                                         |                        |                  N/A |\n",
      "+-----------------------------------------+------------------------+----------------------+\n",
      "|   4  NVIDIA RTX 6000 Ada Gene...    Off |   00000000:83:00.0 Off |                  Off |\n",
      "| 30%   28C    P8             19W /  300W |       2MiB /  49140MiB |      0%      Default |\n",
      "|                                         |                        |                  N/A |\n",
      "+-----------------------------------------+------------------------+----------------------+\n",
      "|   5  NVIDIA RTX 6000 Ada Gene...    Off |   00000000:84:00.0 Off |                  Off |\n",
      "| 30%   28C    P8             20W /  300W |       2MiB /  49140MiB |      0%      Default |\n",
      "|                                         |                        |                  N/A |\n",
      "+-----------------------------------------+------------------------+----------------------+\n",
      "|   6  NVIDIA RTX 6000 Ada Gene...    Off |   00000000:C3:00.0 Off |                  Off |\n",
      "| 30%   40C    P0             91W /  300W |   45936MiB /  49140MiB |     17%      Default |\n",
      "|                                         |                        |                  N/A |\n",
      "+-----------------------------------------+------------------------+----------------------+\n",
      "|   7  NVIDIA RTX 6000 Ada Gene...    Off |   00000000:C4:00.0 Off |                  Off |\n",
      "| 30%   42C    P0            105W /  300W |   45958MiB /  49140MiB |     18%      Default |\n",
      "|                                         |                        |                  N/A |\n",
      "+-----------------------------------------+------------------------+----------------------+\n",
      "                                                                                         \n",
      "+-----------------------------------------------------------------------------------------+\n",
      "| Processes:                                                                              |\n",
      "|  GPU   GI   CI        PID   Type   Process name                              GPU Memory |\n",
      "|        ID   ID                                                               Usage      |\n",
      "|=========================================================================================|\n",
      "|    0   N/A  N/A   1061556      C   python                                      45882MiB |\n",
      "|    1   N/A  N/A   1061556      C   python                                      45898MiB |\n",
      "|    2   N/A  N/A    960006      C   python                                      45924MiB |\n",
      "|    3   N/A  N/A    960006      C   python                                      45926MiB |\n",
      "|    6   N/A  N/A   1041568      C   python                                      45926MiB |\n",
      "|    7   N/A  N/A   1041568      C   python                                      45948MiB |\n",
      "+-----------------------------------------------------------------------------------------+\n"
     ]
    }
   ],
   "source": [
    "!nvidia-smi"
   ]
  },
  {
   "cell_type": "code",
   "execution_count": 9,
   "id": "6622bb77",
   "metadata": {},
   "outputs": [
    {
     "name": "stderr",
     "output_type": "stream",
     "text": [
      "Some weights of RobertaForSequenceClassification were not initialized from the model checkpoint at roberta-large and are newly initialized: ['classifier.dense.bias', 'classifier.dense.weight', 'classifier.out_proj.bias', 'classifier.out_proj.weight']\n",
      "You should probably TRAIN this model on a down-stream task to be able to use it for predictions and inference.\n"
     ]
    },
    {
     "name": "stdout",
     "output_type": "stream",
     "text": [
      "trainable params: 1,444,866 || all params: 356,806,660 || trainable%: 0.4049\n"
     ]
    },
    {
     "name": "stderr",
     "output_type": "stream",
     "text": [
      "  0%|          | 0/141 [00:00<?, ?it/s]You're using a RobertaTokenizerFast tokenizer. Please note that with a fast tokenizer, using the `__call__` method is faster than using a method to encode the text followed by a call to the `pad` method to get a padded encoding.\n",
      "100%|██████████| 141/141 [00:22<00:00,  6.32it/s]\n",
      "100%|██████████| 16/16 [00:01<00:00, 10.99it/s]\n"
     ]
    },
    {
     "name": "stdout",
     "output_type": "stream",
     "text": [
      "Epoch 1: {'accuracy': 0.492}\n"
     ]
    },
    {
     "name": "stderr",
     "output_type": "stream",
     "text": [
      "100%|██████████| 141/141 [00:22<00:00,  6.22it/s]\n",
      "100%|██████████| 16/16 [00:01<00:00, 10.77it/s]\n"
     ]
    },
    {
     "name": "stdout",
     "output_type": "stream",
     "text": [
      "Epoch 2: {'accuracy': 0.486}\n"
     ]
    },
    {
     "name": "stderr",
     "output_type": "stream",
     "text": [
      "100%|██████████| 141/141 [00:23<00:00,  6.13it/s]\n",
      "100%|██████████| 16/16 [00:01<00:00, 10.66it/s]\n"
     ]
    },
    {
     "name": "stdout",
     "output_type": "stream",
     "text": [
      "Epoch 3: {'accuracy': 0.658}\n"
     ]
    },
    {
     "name": "stderr",
     "output_type": "stream",
     "text": [
      "100%|██████████| 141/141 [00:23<00:00,  6.06it/s]\n",
      "100%|██████████| 16/16 [00:01<00:00, 10.60it/s]\n"
     ]
    },
    {
     "name": "stdout",
     "output_type": "stream",
     "text": [
      "Epoch 4: {'accuracy': 0.792}\n"
     ]
    },
    {
     "name": "stderr",
     "output_type": "stream",
     "text": [
      "100%|██████████| 141/141 [00:23<00:00,  6.02it/s]\n",
      "100%|██████████| 16/16 [00:01<00:00, 10.53it/s]\n"
     ]
    },
    {
     "name": "stdout",
     "output_type": "stream",
     "text": [
      "Epoch 5: {'accuracy': 0.862}\n"
     ]
    },
    {
     "name": "stderr",
     "output_type": "stream",
     "text": [
      "100%|██████████| 141/141 [00:23<00:00,  6.00it/s]\n",
      "100%|██████████| 16/16 [00:01<00:00, 10.51it/s]\n"
     ]
    },
    {
     "name": "stdout",
     "output_type": "stream",
     "text": [
      "Epoch 6: {'accuracy': 0.89}\n"
     ]
    },
    {
     "name": "stderr",
     "output_type": "stream",
     "text": [
      "100%|██████████| 141/141 [00:23<00:00,  5.98it/s]\n",
      "100%|██████████| 16/16 [00:01<00:00, 10.50it/s]\n"
     ]
    },
    {
     "name": "stdout",
     "output_type": "stream",
     "text": [
      "Epoch 7: {'accuracy': 0.888}\n"
     ]
    },
    {
     "name": "stderr",
     "output_type": "stream",
     "text": [
      "100%|██████████| 141/141 [00:23<00:00,  5.98it/s]\n",
      "100%|██████████| 16/16 [00:01<00:00, 10.46it/s]\n"
     ]
    },
    {
     "name": "stdout",
     "output_type": "stream",
     "text": [
      "Epoch 8: {'accuracy': 0.886}\n"
     ]
    },
    {
     "name": "stderr",
     "output_type": "stream",
     "text": [
      "100%|██████████| 141/141 [00:23<00:00,  5.97it/s]\n",
      "100%|██████████| 16/16 [00:01<00:00, 10.44it/s]\n"
     ]
    },
    {
     "name": "stdout",
     "output_type": "stream",
     "text": [
      "Epoch 9: {'accuracy': 0.892}\n"
     ]
    },
    {
     "name": "stderr",
     "output_type": "stream",
     "text": [
      "100%|██████████| 141/141 [00:23<00:00,  5.96it/s]\n",
      "100%|██████████| 16/16 [00:01<00:00, 10.46it/s]"
     ]
    },
    {
     "name": "stdout",
     "output_type": "stream",
     "text": [
      "Epoch 10: {'accuracy': 0.892}\n"
     ]
    },
    {
     "name": "stderr",
     "output_type": "stream",
     "text": [
      "\n"
     ]
    }
   ],
   "source": [
    "#os.environ[\"CUDA_DEVICE_ORDER\"]=\"PCI_BUS_ID\"\n",
    "#os.environ[\"CUDA_VISIBLE_DEVICES\"] = \"4,5,6,7\"\n",
    "lora_engine.build_LORA_model()\n",
    "lora_engine.train_LORA_model()"
   ]
  },
  {
   "cell_type": "markdown",
   "id": "06576452",
   "metadata": {},
   "source": [
    "## Compute the gradient\n",
    " - Influence function uses the first-order gradient of a loss function. Here we compute gradients using `compute_gradient`\n",
    " - `tr_grad_dict` has a nested structure of two Python dictionaries. The outer dictionary has `{an index of the training data: a dictionary of gradients}` and the inner dictionary has `{layer name: gradients}`. The `val_grad_dict` has the same structure but for the validationd data points. "
   ]
  },
  {
   "cell_type": "code",
   "execution_count": 10,
   "id": "2ebdc943",
   "metadata": {},
   "outputs": [
    {
     "name": "stderr",
     "output_type": "stream",
     "text": [
      "100%|██████████| 4500/4500 [05:29<00:00, 13.66it/s]\n",
      "100%|██████████| 500/500 [00:37<00:00, 13.18it/s]\n"
     ]
    }
   ],
   "source": [
    "tr_grad_dict, val_grad_dict = lora_engine.compute_gradient(tokenized_datasets, collate_fn)"
   ]
  },
  {
   "cell_type": "markdown",
   "id": "e5acb4bd",
   "metadata": {},
   "source": [
    "## Compute the influence function\n",
    " - We compute the inverse Hessian vector product first using `compute_hvps()`. With the argument `compute_accurate=True`, the exact influence function value will be computed. (it may take an hour to compute)."
   ]
  },
  {
   "cell_type": "code",
   "execution_count": 11,
   "id": "cf312d2d",
   "metadata": {},
   "outputs": [],
   "source": [
    "influence_engine = IFEngine()\n",
    "influence_engine.preprocess_gradients(tr_grad_dict, val_grad_dict, noise_index)\n",
    "influence_engine.compute_hvps(compute_accurate=False)\n",
    "influence_engine.compute_IF()"
   ]
  },
  {
   "cell_type": "markdown",
   "id": "0d6cca0c",
   "metadata": {},
   "source": [
    "## Attributes of influence_engine\n",
    "There are a couple of useful attributes in `influence_engine`. For intance, to compare the runtime, one case use `time_dict`."
   ]
  },
  {
   "cell_type": "code",
   "execution_count": 12,
   "id": "a3aa97a5",
   "metadata": {},
   "outputs": [
    {
     "data": {
      "text/plain": [
       "defaultdict(list,\n",
       "            {'identity': 9.5367431640625e-06,\n",
       "             'proposed': 15.867465257644653,\n",
       "             'LiSSA': 86.3127920627594})"
      ]
     },
     "execution_count": 12,
     "metadata": {},
     "output_type": "execute_result"
    }
   ],
   "source": [
    "influence_engine.time_dict"
   ]
  },
  {
   "cell_type": "markdown",
   "id": "36f9f7b3",
   "metadata": {},
   "source": [
    "`IF_dict` includes all the computed influence function values. Here, `identity` indicates the `Hessian-free` influence computation method. "
   ]
  },
  {
   "cell_type": "code",
   "execution_count": 13,
   "id": "0f71cec0",
   "metadata": {},
   "outputs": [
    {
     "data": {
      "text/plain": [
       "dict_keys(['identity', 'proposed', 'LiSSA'])"
      ]
     },
     "execution_count": 13,
     "metadata": {},
     "output_type": "execute_result"
    }
   ],
   "source": [
    "influence_engine.IF_dict.keys()"
   ]
  },
  {
   "cell_type": "markdown",
   "id": "e66adb5a",
   "metadata": {},
   "source": [
    "## Application to mislabeled data detection task\n",
    "- We compare the mislabeled data detection ability of different influence computation methods. Given that large influence function values are likely to increase the validation loss, data points with large influence fucntion values are desired to be mislabeled. \n",
    "- We inspect data points from the largest to lowest influence function values and evaluate the detection rate. "
   ]
  },
  {
   "cell_type": "code",
   "execution_count": 14,
   "id": "ca2ab5b1",
   "metadata": {},
   "outputs": [],
   "source": [
    "n_train=influence_engine.n_train\n",
    "true_label=np.zeros(n_train)\n",
    "true_label[noise_index]=1\n",
    "\n",
    "method_dict={'identity': 'Hessian-free',\n",
    "            'proposed': 'DataInf',\n",
    "            'LiSSA': 'LiSSA'}"
   ]
  },
  {
   "cell_type": "code",
   "execution_count": 15,
   "id": "44833374",
   "metadata": {
    "scrolled": false
   },
   "outputs": [
    {
     "data": {
      "image/png": "[encoded data removed]",
      "text/plain": [
       "<Figure size 500x400 with 1 Axes>"
      ]
     },
     "metadata": {},
     "output_type": "display_data"
    }
   ],
   "source": [
    "plt.figure(figsize=(5,4))\n",
    "for method in influence_engine.IF_dict:\n",
    "    detection_rate_list=[]\n",
    "    low_quality_to_high_quality=np.argsort(influence_engine.IF_dict[method])[::-1]\n",
    "    for ind in range(1, len(noise_index)+1):\n",
    "        detected_samples = set(low_quality_to_high_quality[:ind]).intersection(noise_index)\n",
    "        detection_rate = 100*len(detected_samples)/len(noise_index)\n",
    "        detection_rate_list.append(detection_rate)\n",
    "    plt.plot(100*np.arange(len(noise_index))/n_train, \n",
    "             detection_rate_list,\n",
    "             label=method_dict[method])\n",
    "plt.xlabel('Data inspected (%)', fontsize=18)\n",
    "plt.ylabel('Detection Rate (%)', fontsize=18)\n",
    "plt.xticks(fontsize=12)\n",
    "plt.yticks(fontsize=12)\n",
    "plt.legend(fontsize=15)\n",
    "plt.title('Mislabeled Data Detection', fontsize=15)\n",
    "plt.show()"
   ]
  },
  {
   "cell_type": "code",
   "execution_count": 16,
   "id": "734bf2c2",
   "metadata": {},
   "outputs": [
    {
     "name": "stdout",
     "output_type": "stream",
     "text": [
      "identity\n",
      "[4202 1956 1915  696 2751  959 1955 3158 4170 2433 2904  776 1979  762\n",
      " 1753 2865 4256 4326 2168 1640 3825 1926 2729 3143 1345 1621 1136 2961\n",
      " 2092  827]\n",
      "proposed\n",
      "[1926  967  786  928 3867 3899 1956 3158 4387 2495 2751 2862  776 2563\n",
      " 4240 2894 3062 3109 2336 4314 1027 1674  948 2865  112 1640 2105  989\n",
      "  667 4489]\n",
      "LiSSA\n",
      "[2108 1656  473 3327 1714 2366 2156 3214 2852 2624  809 2840 1238  784\n",
      " 2849 2938 1131    5 1477 2048  515  202  883 1466 1518 3389 1730 2360\n",
      " 3892 1808]\n"
     ]
    }
   ],
   "source": [
    "for method in influence_engine.IF_dict:\n",
    "    low_quality_to_high_quality=np.argsort(influence_engine.IF_dict[method])[::-1]\n",
    "    print(method)\n",
    "    print(low_quality_to_high_quality[0:30])"
   ]
  },
  {
   "cell_type": "code",
   "execution_count": 17,
   "id": "dbc7f560",
   "metadata": {},
   "outputs": [],
   "source": [
    "vals=np.argsort(influence_engine.IF_dict['identity'])[::-1]\n",
    "identity_skip_set=vals[0:1350]\n",
    "vals=np.argsort(influence_engine.IF_dict['proposed'])[::-1]\n",
    "proposed_skip_set=vals[0:1350]\n",
    "vals=np.argsort(influence_engine.IF_dict['LiSSA'])[::-1]\n",
    "lissa_skip_set=vals[0:1350]"
   ]
  },
  {
   "cell_type": "code",
   "execution_count": 18,
   "id": "da67b5c0",
   "metadata": {},
   "outputs": [
    {
     "data": {
      "text/plain": [
       "array([2108, 1656,  473, ..., 3979, 3992, 4455])"
      ]
     },
     "execution_count": 18,
     "metadata": {},
     "output_type": "execute_result"
    }
   ],
   "source": [
    "lissa_skip_set"
   ]
  },
  {
   "cell_type": "code",
   "execution_count": 19,
   "id": "a876b705",
   "metadata": {},
   "outputs": [],
   "source": [
    "valid_identity_indices = [i for i in range(4500) if i not in identity_skip_set]\n",
    "valid_proposed_indices = [i for i in range(4500) if i not in proposed_skip_set]\n",
    "valid_lissa_indices = [i for i in range(4500) if i not in lissa_skip_set]"
   ]
  },
  {
   "cell_type": "code",
   "execution_count": 21,
   "id": "b5fa73e1",
   "metadata": {},
   "outputs": [],
   "source": [
    "import numpy as np\n",
    "from datasets import load_dataset\n",
    "from transformers import AutoTokenizer, LlamaTokenizer\n",
    "from torch.utils.data import DataLoader\n",
    "from datasets import DatasetDict"
   ]
  },
  {
   "cell_type": "code",
   "execution_count": 22,
   "id": "befcf8d4",
   "metadata": {},
   "outputs": [],
   "source": [
    "mrpc_02_noise_identity=DatasetDict()\n",
    "mrpc_02_noise_proposed=DatasetDict()\n",
    "mrpc_02_noise_lissa=DatasetDict()"
   ]
  },
  {
   "cell_type": "code",
   "execution_count": 23,
   "id": "3620a427",
   "metadata": {},
   "outputs": [],
   "source": [
    "mrpc_02_noise_identity['train']=mrpc_02_noise['train'].select(valid_identity_indices)\n",
    "mrpc_02_noise_proposed['train']=mrpc_02_noise['train'].select(valid_proposed_indices)\n",
    "mrpc_02_noise_lissa['train']=mrpc_02_noise['train'].select(valid_lissa_indices)"
   ]
  },
  {
   "cell_type": "code",
   "execution_count": 24,
   "id": "b0503524",
   "metadata": {},
   "outputs": [
    {
     "name": "stderr",
     "output_type": "stream",
     "text": [
      "/home/haskari/miniconda3/envs/influence/lib/python3.11/site-packages/huggingface_hub/file_download.py:1150: FutureWarning: `resume_download` is deprecated and will be removed in version 1.0.0. Downloads always resume when possible. If you want to force a new download, use `force_download=True`.\n",
      "  warnings.warn(\n"
     ]
    },
    {
     "data": {
      "application/vnd.jupyter.widget-view+json": {
       "model_id": "f9b9fed5a99540d0a8c89641379c57d0",
       "version_major": 2,
       "version_minor": 0
      },
      "text/plain": [
       "Map:   0%|          | 0/3150 [00:00<?, ? examples/s]"
      ]
     },
     "metadata": {},
     "output_type": "display_data"
    }
   ],
   "source": [
    "task_to_keys = {\n",
    "    \"cola\": (\"sentence\", None),\n",
    "    \"mrpc\": (\"sentence1\", \"sentence2\"),\n",
    "    \"qnli\": (\"question\", \"sentence\"),\n",
    "    \"qqp\": (\"question1\", \"question2\"),\n",
    "    \"rte\": (\"sentence1\", \"sentence2\"),\n",
    "    \"sst2\": (\"sentence\", None),\n",
    "    \"wnli\": (\"sentence1\", \"sentence2\"),\n",
    "}\n",
    "\n",
    "tokenizer = AutoTokenizer.from_pretrained(model_name_or_path, padding_side=\"right\")\n",
    "tokenizer.pad_token = tokenizer.eos_token\n",
    "tokenizer.pad_token_id = tokenizer.eos_token_id\n",
    "\n",
    "sentence1_key, sentence2_key = task_to_keys[task]\n",
    "def tokenize_function(examples, max_length=128):\n",
    "    # max_length=None => use the model max length (it's actually the default)\n",
    "    if sentence2_key is None:\n",
    "        outputs = tokenizer(examples[sentence1_key], truncation=True, max_length=max_length)\n",
    "    else:\n",
    "        outputs = tokenizer(examples[sentence1_key], examples[sentence2_key], truncation=True, max_length=max_length)\n",
    "    return outputs\n",
    "\n",
    "if sentence2_key is None:\n",
    "        tokenized_datasets = mrpc_02_noise_identity.map(\n",
    "            tokenize_function,\n",
    "            batched=True, \n",
    "            remove_columns=[\"idx\", sentence1_key],\n",
    "        )\n",
    "else:\n",
    "    tokenized_datasets = mrpc_02_noise_identity.map(\n",
    "        tokenize_function,\n",
    "        batched=True,\n",
    "        remove_columns=[\"idx\", sentence1_key, sentence2_key],\n",
    "    )\n",
    "\n",
    "# We also rename the 'label' column to 'labels' which is the expected name for labels by the models of the\n",
    "# transformers library\n",
    "tokenized_datasets = tokenized_datasets.rename_column(\"label\", \"labels\")\n",
    "\n",
    "def collate_fn(examples):\n",
    "    return tokenizer.pad(examples, padding=\"longest\", return_tensors=\"pt\")  \n",
    "\n",
    "\n",
    "train_dataloader_identity = DataLoader(tokenized_datasets[\"train\"],\n",
    "                                shuffle=False, \n",
    "                                collate_fn=collate_fn,\n",
    "                                batch_size=batch_size)\n"
   ]
  },
  {
   "cell_type": "code",
   "execution_count": 25,
   "id": "4af5bd7e",
   "metadata": {},
   "outputs": [
    {
     "data": {
      "application/vnd.jupyter.widget-view+json": {
       "model_id": "ae2ef923513b45938491f408258a3f09",
       "version_major": 2,
       "version_minor": 0
      },
      "text/plain": [
       "Map:   0%|          | 0/3150 [00:00<?, ? examples/s]"
      ]
     },
     "metadata": {},
     "output_type": "display_data"
    }
   ],
   "source": [
    "task_to_keys = {\n",
    "    \"cola\": (\"sentence\", None),\n",
    "    \"mrpc\": (\"sentence1\", \"sentence2\"),\n",
    "    \"qnli\": (\"question\", \"sentence\"),\n",
    "    \"qqp\": (\"question1\", \"question2\"),\n",
    "    \"rte\": (\"sentence1\", \"sentence2\"),\n",
    "    \"sst2\": (\"sentence\", None),\n",
    "    \"wnli\": (\"sentence1\", \"sentence2\"),\n",
    "}\n",
    "\n",
    "tokenizer = AutoTokenizer.from_pretrained(model_name_or_path, padding_side=\"right\")\n",
    "tokenizer.pad_token = tokenizer.eos_token\n",
    "tokenizer.pad_token_id = tokenizer.eos_token_id\n",
    "\n",
    "sentence1_key, sentence2_key = task_to_keys[task]\n",
    "def tokenize_function(examples, max_length=128):\n",
    "    # max_length=None => use the model max length (it's actually the default)\n",
    "    if sentence2_key is None:\n",
    "        outputs = tokenizer(examples[sentence1_key], truncation=True, max_length=max_length)\n",
    "    else:\n",
    "        outputs = tokenizer(examples[sentence1_key], examples[sentence2_key], truncation=True, max_length=max_length)\n",
    "    return outputs\n",
    "\n",
    "if sentence2_key is None:\n",
    "        tokenized_datasets = mrpc_02_noise_proposed.map(\n",
    "            tokenize_function,\n",
    "            batched=True, \n",
    "            remove_columns=[\"idx\", sentence1_key],\n",
    "        )\n",
    "else:\n",
    "    tokenized_datasets = mrpc_02_noise_proposed.map(\n",
    "        tokenize_function,\n",
    "        batched=True,\n",
    "        remove_columns=[\"idx\", sentence1_key, sentence2_key],\n",
    "    )\n",
    "\n",
    "# We also rename the 'label' column to 'labels' which is the expected name for labels by the models of the\n",
    "# transformers library\n",
    "tokenized_datasets = tokenized_datasets.rename_column(\"label\", \"labels\")\n",
    "\n",
    "def collate_fn(examples):\n",
    "    return tokenizer.pad(examples, padding=\"longest\", return_tensors=\"pt\")  \n",
    "\n",
    "\n",
    "train_dataloader_proposed = DataLoader(tokenized_datasets[\"train\"],\n",
    "                                shuffle=False, \n",
    "                                collate_fn=collate_fn,\n",
    "                                batch_size=batch_size)\n"
   ]
  },
  {
   "cell_type": "code",
   "execution_count": 26,
   "id": "6d451f81",
   "metadata": {},
   "outputs": [
    {
     "data": {
      "application/vnd.jupyter.widget-view+json": {
       "model_id": "a84a53a4666a41eea722eb2d6f86f95a",
       "version_major": 2,
       "version_minor": 0
      },
      "text/plain": [
       "Map:   0%|          | 0/3150 [00:00<?, ? examples/s]"
      ]
     },
     "metadata": {},
     "output_type": "display_data"
    }
   ],
   "source": [
    "task_to_keys = {\n",
    "    \"cola\": (\"sentence\", None),\n",
    "    \"mrpc\": (\"sentence1\", \"sentence2\"),\n",
    "    \"qnli\": (\"question\", \"sentence\"),\n",
    "    \"qqp\": (\"question1\", \"question2\"),\n",
    "    \"rte\": (\"sentence1\", \"sentence2\"),\n",
    "    \"sst2\": (\"sentence\", None),\n",
    "    \"wnli\": (\"sentence1\", \"sentence2\"),\n",
    "}\n",
    "\n",
    "tokenizer = AutoTokenizer.from_pretrained(model_name_or_path, padding_side=\"right\")\n",
    "tokenizer.pad_token = tokenizer.eos_token\n",
    "tokenizer.pad_token_id = tokenizer.eos_token_id\n",
    "\n",
    "sentence1_key, sentence2_key = task_to_keys[task]\n",
    "def tokenize_function(examples, max_length=128):\n",
    "    # max_length=None => use the model max length (it's actually the default)\n",
    "    if sentence2_key is None:\n",
    "        outputs = tokenizer(examples[sentence1_key], truncation=True, max_length=max_length)\n",
    "    else:\n",
    "        outputs = tokenizer(examples[sentence1_key], examples[sentence2_key], truncation=True, max_length=max_length)\n",
    "    return outputs\n",
    "\n",
    "if sentence2_key is None:\n",
    "        tokenized_datasets = mrpc_02_noise_lissa.map(\n",
    "            tokenize_function,\n",
    "            batched=True, \n",
    "            remove_columns=[\"idx\", sentence1_key],\n",
    "        )\n",
    "else:\n",
    "    tokenized_datasets = mrpc_02_noise_lissa.map(\n",
    "        tokenize_function,\n",
    "        batched=True,\n",
    "        remove_columns=[\"idx\", sentence1_key, sentence2_key],\n",
    "    )\n",
    "\n",
    "# We also rename the 'label' column to 'labels' which is the expected name for labels by the models of the\n",
    "# transformers library\n",
    "tokenized_datasets = tokenized_datasets.rename_column(\"label\", \"labels\")\n",
    "\n",
    "def collate_fn(examples):\n",
    "    return tokenizer.pad(examples, padding=\"longest\", return_tensors=\"pt\")  \n",
    "\n",
    "\n",
    "train_dataloader_lissa = DataLoader(tokenized_datasets[\"train\"],\n",
    "                                shuffle=False, \n",
    "                                collate_fn=collate_fn,\n",
    "                                batch_size=batch_size)\n"
   ]
  },
  {
   "cell_type": "code",
   "execution_count": 27,
   "id": "c56e7772",
   "metadata": {},
   "outputs": [],
   "source": [
    "lora_engine = LORAEngine(model_name_or_path=model_name_or_path,\n",
    "                            target_modules=target_modules,\n",
    "                            train_dataloader=train_dataloader_lissa,\n",
    "                            eval_dataloader=eval_dataloader,\n",
    "                            device=device,\n",
    "                            num_epochs=num_epochs,\n",
    "                            lr=lr,\n",
    "                            low_rank=8, \n",
    "                            task=task)"
   ]
  },
  {
   "cell_type": "code",
   "execution_count": 28,
   "id": "ce210bb0",
   "metadata": {},
   "outputs": [
    {
     "name": "stderr",
     "output_type": "stream",
     "text": [
      "Some weights of RobertaForSequenceClassification were not initialized from the model checkpoint at roberta-large and are newly initialized: ['classifier.dense.bias', 'classifier.dense.weight', 'classifier.out_proj.bias', 'classifier.out_proj.weight']\n",
      "You should probably TRAIN this model on a down-stream task to be able to use it for predictions and inference.\n"
     ]
    },
    {
     "name": "stdout",
     "output_type": "stream",
     "text": [
      "trainable params: 1,444,866 || all params: 356,806,660 || trainable%: 0.4049\n"
     ]
    },
    {
     "name": "stderr",
     "output_type": "stream",
     "text": [
      "  0%|          | 0/99 [00:00<?, ?it/s]You're using a RobertaTokenizerFast tokenizer. Please note that with a fast tokenizer, using the `__call__` method is faster than using a method to encode the text followed by a call to the `pad` method to get a padded encoding.\n",
      "100%|██████████| 99/99 [00:15<00:00,  6.39it/s]\n",
      "100%|██████████| 16/16 [00:01<00:00, 11.31it/s]\n"
     ]
    },
    {
     "name": "stdout",
     "output_type": "stream",
     "text": [
      "Epoch 1: {'accuracy': 0.486}\n"
     ]
    },
    {
     "name": "stderr",
     "output_type": "stream",
     "text": [
      "100%|██████████| 99/99 [00:15<00:00,  6.27it/s]\n",
      "100%|██████████| 16/16 [00:01<00:00, 11.17it/s]\n"
     ]
    },
    {
     "name": "stdout",
     "output_type": "stream",
     "text": [
      "Epoch 2: {'accuracy': 0.786}\n"
     ]
    },
    {
     "name": "stderr",
     "output_type": "stream",
     "text": [
      "100%|██████████| 99/99 [00:16<00:00,  6.18it/s]\n",
      "100%|██████████| 16/16 [00:01<00:00, 10.98it/s]\n"
     ]
    },
    {
     "name": "stdout",
     "output_type": "stream",
     "text": [
      "Epoch 3: {'accuracy': 0.704}\n"
     ]
    },
    {
     "name": "stderr",
     "output_type": "stream",
     "text": [
      "100%|██████████| 99/99 [00:16<00:00,  6.11it/s]\n",
      "100%|██████████| 16/16 [00:01<00:00, 10.91it/s]\n"
     ]
    },
    {
     "name": "stdout",
     "output_type": "stream",
     "text": [
      "Epoch 4: {'accuracy': 0.7}\n"
     ]
    },
    {
     "name": "stderr",
     "output_type": "stream",
     "text": [
      "100%|██████████| 99/99 [00:16<00:00,  6.07it/s]\n",
      "100%|██████████| 16/16 [00:01<00:00, 10.85it/s]\n"
     ]
    },
    {
     "name": "stdout",
     "output_type": "stream",
     "text": [
      "Epoch 5: {'accuracy': 0.7}\n"
     ]
    },
    {
     "name": "stderr",
     "output_type": "stream",
     "text": [
      "100%|██████████| 99/99 [00:16<00:00,  6.03it/s]\n",
      "100%|██████████| 16/16 [00:01<00:00, 10.79it/s]\n"
     ]
    },
    {
     "name": "stdout",
     "output_type": "stream",
     "text": [
      "Epoch 6: {'accuracy': 0.74}\n"
     ]
    },
    {
     "name": "stderr",
     "output_type": "stream",
     "text": [
      "100%|██████████| 99/99 [00:16<00:00,  6.00it/s]\n",
      "100%|██████████| 16/16 [00:01<00:00, 10.72it/s]\n"
     ]
    },
    {
     "name": "stdout",
     "output_type": "stream",
     "text": [
      "Epoch 7: {'accuracy': 0.76}\n"
     ]
    },
    {
     "name": "stderr",
     "output_type": "stream",
     "text": [
      "100%|██████████| 99/99 [00:16<00:00,  5.99it/s]\n",
      "100%|██████████| 16/16 [00:01<00:00, 10.72it/s]\n"
     ]
    },
    {
     "name": "stdout",
     "output_type": "stream",
     "text": [
      "Epoch 8: {'accuracy': 0.76}\n"
     ]
    },
    {
     "name": "stderr",
     "output_type": "stream",
     "text": [
      "100%|██████████| 99/99 [00:16<00:00,  5.97it/s]\n",
      "100%|██████████| 16/16 [00:01<00:00, 10.64it/s]\n"
     ]
    },
    {
     "name": "stdout",
     "output_type": "stream",
     "text": [
      "Epoch 9: {'accuracy': 0.76}\n"
     ]
    },
    {
     "name": "stderr",
     "output_type": "stream",
     "text": [
      "100%|██████████| 99/99 [00:16<00:00,  5.96it/s]\n",
      "100%|██████████| 16/16 [00:01<00:00, 10.64it/s]"
     ]
    },
    {
     "name": "stdout",
     "output_type": "stream",
     "text": [
      "Epoch 10: {'accuracy': 0.76}\n"
     ]
    },
    {
     "name": "stderr",
     "output_type": "stream",
     "text": [
      "\n"
     ]
    }
   ],
   "source": [
    "lora_engine.build_LORA_model()\n",
    "lora_engine.train_LORA_model()"
   ]
  },
  {
   "cell_type": "code",
   "execution_count": 29,
   "id": "b5937eb2",
   "metadata": {},
   "outputs": [],
   "source": [
    "lora_engine = LORAEngine(model_name_or_path=model_name_or_path,\n",
    "                            target_modules=target_modules,\n",
    "                            train_dataloader=train_dataloader_proposed,\n",
    "                            eval_dataloader=eval_dataloader,\n",
    "                            device=device,\n",
    "                            num_epochs=num_epochs,\n",
    "                            lr=lr,\n",
    "                            low_rank=8, \n",
    "                            task=task)"
   ]
  },
  {
   "cell_type": "code",
   "execution_count": 30,
   "id": "212db7b0",
   "metadata": {},
   "outputs": [
    {
     "name": "stderr",
     "output_type": "stream",
     "text": [
      "Some weights of RobertaForSequenceClassification were not initialized from the model checkpoint at roberta-large and are newly initialized: ['classifier.dense.bias', 'classifier.dense.weight', 'classifier.out_proj.bias', 'classifier.out_proj.weight']\n",
      "You should probably TRAIN this model on a down-stream task to be able to use it for predictions and inference.\n"
     ]
    },
    {
     "name": "stdout",
     "output_type": "stream",
     "text": [
      "trainable params: 1,444,866 || all params: 356,806,660 || trainable%: 0.4049\n"
     ]
    },
    {
     "name": "stderr",
     "output_type": "stream",
     "text": [
      " 42%|████▏     | 42/99 [00:06<00:09,  6.26it/s]"
     ]
    }
   ],
   "source": [
    "lora_engine.build_LORA_model()\n",
    "lora_engine.train_LORA_model()"
   ]
  },
  {
   "cell_type": "code",
   "execution_count": null,
   "id": "c72ec3e3",
   "metadata": {},
   "outputs": [],
   "source": [
    "lora_engine = LORAEngine(model_name_or_path=model_name_or_path,\n",
    "                            target_modules=target_modules,\n",
    "                            train_dataloader=train_dataloader_identity,\n",
    "                            eval_dataloader=eval_dataloader,\n",
    "                            device=device,\n",
    "                            num_epochs=num_epochs,\n",
    "                            lr=lr,\n",
    "                            low_rank=8, \n",
    "                            task=task)"
   ]
  },
  {
   "cell_type": "code",
   "execution_count": null,
   "id": "9f35ea0b",
   "metadata": {},
   "outputs": [
    {
     "name": "stderr",
     "output_type": "stream",
     "text": [
      "Some weights of RobertaForSequenceClassification were not initialized from the model checkpoint at roberta-large and are newly initialized: ['classifier.dense.bias', 'classifier.dense.weight', 'classifier.out_proj.bias', 'classifier.out_proj.weight']\n",
      "You should probably TRAIN this model on a down-stream task to be able to use it for predictions and inference.\n"
     ]
    },
    {
     "name": "stdout",
     "output_type": "stream",
     "text": [
      "trainable params: 1,444,866 || all params: 356,806,660 || trainable%: 0.4049\n"
     ]
    },
    {
     "name": "stderr",
     "output_type": "stream",
     "text": [
      "100%|██████████| 99/99 [00:16<00:00,  6.10it/s]\n",
      "100%|██████████| 16/16 [00:01<00:00, 10.63it/s]\n"
     ]
    },
    {
     "name": "stdout",
     "output_type": "stream",
     "text": [
      "Epoch 1: {'accuracy': 0.514}\n"
     ]
    },
    {
     "name": "stderr",
     "output_type": "stream",
     "text": [
      "100%|██████████| 99/99 [00:16<00:00,  6.08it/s]\n",
      "100%|██████████| 16/16 [00:01<00:00, 10.59it/s]\n"
     ]
    },
    {
     "name": "stdout",
     "output_type": "stream",
     "text": [
      "Epoch 2: {'accuracy': 0.598}\n"
     ]
    },
    {
     "name": "stderr",
     "output_type": "stream",
     "text": [
      "100%|██████████| 99/99 [00:16<00:00,  6.07it/s]\n",
      "100%|██████████| 16/16 [00:01<00:00, 10.57it/s]\n"
     ]
    },
    {
     "name": "stdout",
     "output_type": "stream",
     "text": [
      "Epoch 3: {'accuracy': 0.846}\n"
     ]
    },
    {
     "name": "stderr",
     "output_type": "stream",
     "text": [
      "100%|██████████| 99/99 [00:16<00:00,  6.06it/s]\n",
      "100%|██████████| 16/16 [00:01<00:00, 10.57it/s]\n"
     ]
    },
    {
     "name": "stdout",
     "output_type": "stream",
     "text": [
      "Epoch 4: {'accuracy': 0.856}\n"
     ]
    },
    {
     "name": "stderr",
     "output_type": "stream",
     "text": [
      "100%|██████████| 99/99 [00:16<00:00,  6.06it/s]\n",
      "100%|██████████| 16/16 [00:01<00:00, 10.60it/s]\n"
     ]
    },
    {
     "name": "stdout",
     "output_type": "stream",
     "text": [
      "Epoch 5: {'accuracy': 0.858}\n"
     ]
    },
    {
     "name": "stderr",
     "output_type": "stream",
     "text": [
      "100%|██████████| 99/99 [00:16<00:00,  6.06it/s]\n",
      "100%|██████████| 16/16 [00:01<00:00, 10.58it/s]\n"
     ]
    },
    {
     "name": "stdout",
     "output_type": "stream",
     "text": [
      "Epoch 6: {'accuracy': 0.834}\n"
     ]
    },
    {
     "name": "stderr",
     "output_type": "stream",
     "text": [
      "100%|██████████| 99/99 [00:16<00:00,  6.06it/s]\n",
      "100%|██████████| 16/16 [00:01<00:00, 10.54it/s]\n"
     ]
    },
    {
     "name": "stdout",
     "output_type": "stream",
     "text": [
      "Epoch 7: {'accuracy': 0.86}\n"
     ]
    },
    {
     "name": "stderr",
     "output_type": "stream",
     "text": [
      "100%|██████████| 99/99 [00:16<00:00,  6.06it/s]\n",
      "100%|██████████| 16/16 [00:01<00:00, 10.57it/s]\n"
     ]
    },
    {
     "name": "stdout",
     "output_type": "stream",
     "text": [
      "Epoch 8: {'accuracy': 0.824}\n"
     ]
    },
    {
     "name": "stderr",
     "output_type": "stream",
     "text": [
      "100%|██████████| 99/99 [00:16<00:00,  6.05it/s]\n",
      "100%|██████████| 16/16 [00:01<00:00, 10.54it/s]\n"
     ]
    },
    {
     "name": "stdout",
     "output_type": "stream",
     "text": [
      "Epoch 9: {'accuracy': 0.842}\n"
     ]
    },
    {
     "name": "stderr",
     "output_type": "stream",
     "text": [
      "100%|██████████| 99/99 [00:16<00:00,  6.05it/s]\n",
      "100%|██████████| 16/16 [00:01<00:00, 10.57it/s]"
     ]
    },
    {
     "name": "stdout",
     "output_type": "stream",
     "text": [
      "Epoch 10: {'accuracy': 0.824}\n"
     ]
    },
    {
     "name": "stderr",
     "output_type": "stream",
     "text": [
      "\n"
     ]
    }
   ],
   "source": [
    "lora_engine.build_LORA_model()\n",
    "lora_engine.train_LORA_model()"
   ]
  },
  {
   "cell_type": "code",
   "execution_count": null,
   "id": "4f8cce30",
   "metadata": {},
   "outputs": [],
   "source": []
  },
  {
   "cell_type": "code",
   "execution_count": null,
   "id": "c5859672",
   "metadata": {},
   "outputs": [],
   "source": []
  },
  {
   "cell_type": "code",
   "execution_count": null,
   "id": "3542c140",
   "metadata": {},
   "outputs": [],
   "source": []
  }
 ],
 "metadata": {
  "kernelspec": {
   "display_name": "Python 3 (ipykernel)",
   "language": "python",
   "name": "python3"
  },
  "language_info": {
   "codemirror_mode": {
    "name": "ipython",
    "version": 3
   },
   "file_extension": ".py",
   "mimetype": "text/x-python",
   "name": "python",
   "nbconvert_exporter": "python",
   "pygments_lexer": "ipython3",
   "version": "3.11.7"
  }
 },
 "nbformat": 4,
 "nbformat_minor": 5
}

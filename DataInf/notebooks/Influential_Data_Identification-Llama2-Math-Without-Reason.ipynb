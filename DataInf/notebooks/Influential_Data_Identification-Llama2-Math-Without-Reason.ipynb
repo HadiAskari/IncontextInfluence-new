{
 "cells": [
  {
   "cell_type": "markdown",
   "id": "51542ae2",
   "metadata": {},
   "source": [
    "# Influential data identification - Llama2 - Math - Without - Reason\n",
    "\n",
    "This notebook demonstrates how to efficiently compute the influence functions using DataInf, showing its application to **influential data identification** tasks.\n",
    "\n",
    "- Model: [llama-2-13b-chat](https://huggingface.co/meta-llama/Llama-2-13b-chat-hf) trained on a mix of publicly available online datasets.\n",
    "- Fine-tuning dataset: Synthetic Math Problem (without reasoning) dataset\n",
    "\n",
    "References\n",
    "- `trl` HuggingFace library [[Link]](https://github.com/huggingface/trl).\n",
    "- DataInf is available at this [ArXiv link](https://arxiv.org/abs/2310.00902)."
   ]
  },
  {
   "cell_type": "code",
   "execution_count": 1,
   "id": "759f0a20",
   "metadata": {},
   "outputs": [],
   "source": [
    "import sys\n",
    "sys.path.append('../src')\n",
    "from lora_model import LORAEngineGeneration\n",
    "from influence import IFEngineGeneration"
   ]
  },
  {
   "cell_type": "markdown",
   "id": "137e0c14",
   "metadata": {},
   "source": [
    "## Fine-tune a model\n",
    "- We fine-tune a llama-2-13b-chat model on the `math problem (without reasoning)` dataset. We use `src/sft_trainer.py`, which is built on HuggingFace's [SFTTrainer](https://github.com/huggingface/trl/blob/main/examples/scripts/sft.py). It will take around 30 minutes."
   ]
  },
  {
   "cell_type": "code",
   "execution_count": 2,
   "id": "7d569f5a",
   "metadata": {},
   "outputs": [],
   "source": [
    "# !python /YOUR-DATAINF-PATH/DataInf/src/sft_trainer.py \\\n",
    "#     --model_name /YOUR-LLAMA-PATH/llama/models_hf/llama-2-13b-chat \\\n",
    "#     --dataset_name /YOUR-DATAINF-PATH/DataInf/datasets/math_without_reason_train.hf \\\n",
    "#     --output_dir /YOUR-DATAINF-PATH/DataInf/models/math_without_reason_13bf \\\n",
    "#     --dataset_text_field text \\\n",
    "#     --load_in_8bit \\\n",
    "#     --use_peft"
   ]
  },
  {
   "cell_type": "markdown",
   "id": "62fdb7d3",
   "metadata": {},
   "source": [
    "## Load a fine-tuned model"
   ]
  },
  {
   "cell_type": "code",
   "execution_count": 3,
   "id": "1b732140",
   "metadata": {},
   "outputs": [
    {
     "name": "stderr",
     "output_type": "stream",
     "text": [
      "`low_cpu_mem_usage` was None, now set to True since model is quantized.\n"
     ]
    },
    {
     "data": {
      "application/vnd.jupyter.widget-view+json": {
       "model_id": "d36a46d1f2c34a3a9b989e4a1c2ec1cd",
       "version_major": 2,
       "version_minor": 0
      },
      "text/plain": [
       "Loading checkpoint shards:   0%|          | 0/3 [00:00<?, ?it/s]"
      ]
     },
     "metadata": {},
     "output_type": "display_data"
    }
   ],
   "source": [
    "# Please change the following objects to  \"YOUR-LLAMA-PATH\" and \"YOUR-DATAINF-PATH\"\n",
    "base_path = \"/nas02/Hadi/Incontenxt-influence/DataInf/llama2-13-b-models/llama-2-13b-chat-converted-original\" \n",
    "project_path =\"/nas02/Hadi/Incontenxt-influence/DataInf\" \n",
    "lora_engine = LORAEngineGeneration(base_path=base_path, \n",
    "                                   project_path=project_path,\n",
    "                                   dataset_name='math_without_reason')"
   ]
  },
  {
   "cell_type": "markdown",
   "id": "e6df744c",
   "metadata": {},
   "source": [
    "### Example: model prediction\n",
    "The following prompt has not been seen during the fine-tuning process, although there are many similar addition problems. "
   ]
  },
  {
   "cell_type": "code",
   "execution_count": 4,
   "id": "db75df7c",
   "metadata": {},
   "outputs": [
    {
     "name": "stderr",
     "output_type": "stream",
     "text": [
      "/home/haskari/miniconda3/envs/influence/lib/python3.11/site-packages/bitsandbytes/autograd/_functions.py:322: UserWarning: MatMul8bitLt: inputs will be cast from torch.bfloat16 to float16 during quantization\n",
      "  warnings.warn(f\"MatMul8bitLt: inputs will be cast from {A.dtype} to float16 during quantization\")\n"
     ]
    },
    {
     "name": "stdout",
     "output_type": "stream",
     "text": [
      "--------------------------------------------------\n",
      "Print Input prompt\n",
      "\n",
      "Emily scored 10 points in the first game, 30 points in the second, 100 in the third, and 20 in the fourth game. What is her total points? Output only the answer.\n",
      "\n",
      "--------------------------------------------------\n",
      "Print Model output\n",
      "\n",
      "Emily scored 10 points in the first game, 30 points in the second, 100 in the third, and 20 in the fourth game. What is her total points? Output only the answer.\n",
      "\n",
      "Answer: 160\n",
      "--------------------------------------------------\n"
     ]
    }
   ],
   "source": [
    "prompt = \"\"\"\n",
    "Emily scored 10 points in the first game, 30 points in the second, 100 in the third, and 20 in the fourth game. What is her total points? Output only the answer.\n",
    "\"\"\"\n",
    "inputs = lora_engine.tokenizer(prompt, return_tensors=\"pt\").to(\"cuda\")\n",
    "\n",
    "# Generate\n",
    "generate_ids = lora_engine.model.generate(input_ids=inputs.input_ids, \n",
    "                                          max_length=128,\n",
    "                                          pad_token_id=lora_engine.tokenizer.eos_token_id)\n",
    "output = lora_engine.tokenizer.batch_decode(\n",
    "    generate_ids, skip_special_tokens=True, clean_up_tokenization_spaces=True\n",
    ")[0]\n",
    "\n",
    "print('-'*50)\n",
    "print('Print Input prompt')\n",
    "print(prompt)\n",
    "print('-'*50)\n",
    "print('Print Model output')\n",
    "print(output)\n",
    "print('-'*50)"
   ]
  },
  {
   "cell_type": "markdown",
   "id": "effb829f",
   "metadata": {},
   "source": [
    "## Compute the gradient\n",
    " - Influence function uses the first-order gradient of a loss function. Here we compute gradients using `compute_gradient`\n",
    " - `tr_grad_dict` has a nested structure of two Python dictionaries. The outer dictionary has `{an index of the training data: a dictionary of gradients}` and the inner dictionary has `{layer name: gradients}`. The `val_grad_dict` has the same structure but for the validationd data points. "
   ]
  },
  {
   "cell_type": "code",
   "execution_count": 5,
   "id": "67d34884",
   "metadata": {
    "scrolled": false
   },
   "outputs": [
    {
     "name": "stderr",
     "output_type": "stream",
     "text": [
      "Parameter 'function'=<function LORAEngineGeneration.create_tokenized_datasets.<locals>.<lambda> at 0x7fcb5c8044a0> of the transform datasets.arrow_dataset.Dataset._map_single couldn't be hashed properly, a random hash was used instead. Make sure your transforms and parameters are serializable with pickle or dill for the dataset fingerprinting and caching to work. If you reuse this transform, the caching mechanism will consider it to be different from the previous calls and recompute everything. This warning is only showed once. Subsequent hashing failures won't be showed.\n"
     ]
    },
    {
     "data": {
      "application/vnd.jupyter.widget-view+json": {
       "model_id": "e96a0aef34044248bd85cd638719b4eb",
       "version_major": 2,
       "version_minor": 0
      },
      "text/plain": [
       "Map:   0%|          | 0/900 [00:00<?, ? examples/s]"
      ]
     },
     "metadata": {},
     "output_type": "display_data"
    },
    {
     "data": {
      "application/vnd.jupyter.widget-view+json": {
       "model_id": "cf15d398b1ae42e798e4e380aa95c0a6",
       "version_major": 2,
       "version_minor": 0
      },
      "text/plain": [
       "Map:   0%|          | 0/100 [00:00<?, ? examples/s]"
      ]
     },
     "metadata": {},
     "output_type": "display_data"
    },
    {
     "name": "stderr",
     "output_type": "stream",
     "text": [
      " 92%|█████████▏| 825/900 [11:20<04:56,  3.95s/it]"
     ]
    }
   ],
   "source": [
    "tokenized_datasets, collate_fn = lora_engine.create_tokenized_datasets()\n",
    "tr_grad_dict, val_grad_dict = lora_engine.compute_gradient(tokenized_datasets, collate_fn)"
   ]
  },
  {
   "cell_type": "code",
   "execution_count": null,
   "id": "8293563b",
   "metadata": {},
   "outputs": [
    {
     "data": {
      "text/plain": [
       "{'model.embed_tokens.weight': tensor([0., 0., 0.,  ..., 0., 0., 0.], device='cuda:0', dtype=torch.bfloat16),\n",
       " 'model.layers.0.input_layernorm.weight': tensor([ -0.6094, -16.0000,   1.8828,  ...,   4.0000,  -3.2812,   5.0312],\n",
       "        device='cuda:0', dtype=torch.bfloat16),\n",
       " 'model.layers.0.post_attention_layernorm.weight': tensor([-0.4434,  0.9922,  0.9609,  ...,  0.9844, -1.0078, -0.4727],\n",
       "        device='cuda:0', dtype=torch.bfloat16),\n",
       " 'model.layers.1.input_layernorm.weight': tensor([-0.2256, -1.0000, -1.5547,  ...,  0.1777,  0.3691, -0.5352],\n",
       "        device='cuda:0', dtype=torch.bfloat16),\n",
       " 'model.layers.1.post_attention_layernorm.weight': tensor([ 2.5312, -0.1895,  3.9844,  ...,  1.6719, -1.9141,  0.3984],\n",
       "        device='cuda:0', dtype=torch.bfloat16),\n",
       " 'model.layers.2.input_layernorm.weight': tensor([ 1.1094, -0.6406, -0.7539,  ...,  0.7734,  0.7148,  0.5977],\n",
       "        device='cuda:0', dtype=torch.bfloat16),\n",
       " 'model.layers.2.post_attention_layernorm.weight': tensor([ 3.6562,  2.1875,  1.0547,  ..., -3.5156,  3.8438, -0.5000],\n",
       "        device='cuda:0', dtype=torch.bfloat16),\n",
       " 'model.layers.3.input_layernorm.weight': tensor([-0.6953,  1.6797,  0.1553,  ...,  0.7227,  0.9023,  0.2373],\n",
       "        device='cuda:0', dtype=torch.bfloat16),\n",
       " 'model.layers.3.post_attention_layernorm.weight': tensor([-1.0000, -3.1406,  2.1250,  ..., -1.6562, -1.1875, -0.3223],\n",
       "        device='cuda:0', dtype=torch.bfloat16),\n",
       " 'model.layers.4.input_layernorm.weight': tensor([ 0.5664, -0.5508, -1.0078,  ...,  0.4902,  0.1328, -0.4414],\n",
       "        device='cuda:0', dtype=torch.bfloat16),\n",
       " 'model.layers.4.post_attention_layernorm.weight': tensor([-1.9531, -2.0625,  0.8008,  ...,  0.2676, -0.8672,  2.5312],\n",
       "        device='cuda:0', dtype=torch.bfloat16),\n",
       " 'model.layers.5.input_layernorm.weight': tensor([-1.0469, -0.5820,  0.5352,  ..., -0.1885,  0.5820, -0.3047],\n",
       "        device='cuda:0', dtype=torch.bfloat16),\n",
       " 'model.layers.5.post_attention_layernorm.weight': tensor([ 2.1562, -1.0547,  1.1875,  ..., -2.2031,  2.1406,  0.8164],\n",
       "        device='cuda:0', dtype=torch.bfloat16),\n",
       " 'model.layers.6.input_layernorm.weight': tensor([-0.0223,  0.2539,  0.0442,  ..., -0.1318,  0.1270, -1.1250],\n",
       "        device='cuda:0', dtype=torch.bfloat16),\n",
       " 'model.layers.6.post_attention_layernorm.weight': tensor([ 0.3535, -2.1250,  2.0000,  ...,  1.0391,  2.6875,  2.3125],\n",
       "        device='cuda:0', dtype=torch.bfloat16),\n",
       " 'model.layers.7.input_layernorm.weight': tensor([ 0.9375, -0.5156,  0.0947,  ..., -1.0234,  1.0703, -0.0466],\n",
       "        device='cuda:0', dtype=torch.bfloat16),\n",
       " 'model.layers.7.post_attention_layernorm.weight': tensor([ 1.5625, -1.4375, -1.7031,  ...,  1.8906, -2.8281, -0.9180],\n",
       "        device='cuda:0', dtype=torch.bfloat16),\n",
       " 'model.layers.8.input_layernorm.weight': tensor([-0.8945,  1.0078,  0.2139,  ...,  1.0312,  0.3086, -0.2402],\n",
       "        device='cuda:0', dtype=torch.bfloat16),\n",
       " 'model.layers.8.post_attention_layernorm.weight': tensor([-1.9922,  1.1641, -1.7188,  ..., -2.0938, -3.8438,  2.1719],\n",
       "        device='cuda:0', dtype=torch.bfloat16),\n",
       " 'model.layers.9.input_layernorm.weight': tensor([-0.4062,  0.0304,  0.0157,  ..., -1.0000,  0.0417, -0.6484],\n",
       "        device='cuda:0', dtype=torch.bfloat16),\n",
       " 'model.layers.9.post_attention_layernorm.weight': tensor([-0.4844, -0.3711, -0.8281,  ..., -4.0000,  4.0000,  0.9023],\n",
       "        device='cuda:0', dtype=torch.bfloat16),\n",
       " 'model.layers.10.input_layernorm.weight': tensor([ 4.7656e-01, -9.4531e-01, -2.1387e-01,  ...,  7.1094e-01,\n",
       "          1.7285e-01,  5.7220e-05], device='cuda:0', dtype=torch.bfloat16),\n",
       " 'model.layers.10.post_attention_layernorm.weight': tensor([-1.1484,  0.2715,  0.0801,  ...,  3.2188, -1.2109,  0.1250],\n",
       "        device='cuda:0', dtype=torch.bfloat16),\n",
       " 'model.layers.11.input_layernorm.weight': tensor([ 0.8477, -1.9141, -0.3008,  ..., -0.6719, -0.0043,  0.2139],\n",
       "        device='cuda:0', dtype=torch.bfloat16),\n",
       " 'model.layers.11.post_attention_layernorm.weight': tensor([ 1.2500,  0.6289,  2.0000,  ..., -2.1562, -4.4375,  0.2676],\n",
       "        device='cuda:0', dtype=torch.bfloat16),\n",
       " 'model.layers.12.input_layernorm.weight': tensor([-0.5586,  0.4609,  0.0613,  ..., -0.7734, -1.2500,  0.2715],\n",
       "        device='cuda:0', dtype=torch.bfloat16),\n",
       " 'model.layers.12.post_attention_layernorm.weight': tensor([-0.8242,  0.3496,  1.2109,  ..., -4.3125, -2.6250, -1.0000],\n",
       "        device='cuda:0', dtype=torch.bfloat16),\n",
       " 'model.layers.13.input_layernorm.weight': tensor([ 0.0129, -0.1118, -0.4160,  ...,  0.1309,  0.7734,  0.4648],\n",
       "        device='cuda:0', dtype=torch.bfloat16),\n",
       " 'model.layers.13.post_attention_layernorm.weight': tensor([-2.4375,  1.0781,  2.0000,  ...,  2.0000,  3.5312,  1.2500],\n",
       "        device='cuda:0', dtype=torch.bfloat16),\n",
       " 'model.layers.14.input_layernorm.weight': tensor([ 0.5547,  0.1289, -0.2754,  ...,  0.8750, -0.6719, -0.9922],\n",
       "        device='cuda:0', dtype=torch.bfloat16),\n",
       " 'model.layers.14.post_attention_layernorm.weight': tensor([ 1.7891, -0.3379,  0.5664,  ..., -1.6641, -1.2422, -1.1484],\n",
       "        device='cuda:0', dtype=torch.bfloat16),\n",
       " 'model.layers.15.input_layernorm.weight': tensor([-0.1943, -0.0236,  0.5430,  ..., -0.5703, -0.0977,  0.3105],\n",
       "        device='cuda:0', dtype=torch.bfloat16),\n",
       " 'model.layers.15.post_attention_layernorm.weight': tensor([-1.5156,  0.8203, -2.0312,  ...,  0.4297,  0.8867, -0.0298],\n",
       "        device='cuda:0', dtype=torch.bfloat16),\n",
       " 'model.layers.16.input_layernorm.weight': tensor([ 0.8594, -0.5000, -1.0000,  ...,  0.6836,  0.1777, -0.1318],\n",
       "        device='cuda:0', dtype=torch.bfloat16),\n",
       " 'model.layers.16.post_attention_layernorm.weight': tensor([-1.3359,  0.3867,  1.1406,  ...,  1.1797, -1.3594, -0.5859],\n",
       "        device='cuda:0', dtype=torch.bfloat16),\n",
       " 'model.layers.17.input_layernorm.weight': tensor([ 0.9141, -0.0147, -0.2871,  ..., -0.6953,  0.6562, -0.2949],\n",
       "        device='cuda:0', dtype=torch.bfloat16),\n",
       " 'model.layers.17.post_attention_layernorm.weight': tensor([ 0.7148, -0.1367,  0.3340,  ...,  0.0669, -1.0156,  0.4531],\n",
       "        device='cuda:0', dtype=torch.bfloat16),\n",
       " 'model.layers.18.input_layernorm.weight': tensor([-0.0129, -0.2734, -0.5430,  ..., -0.2451,  0.7852, -0.3672],\n",
       "        device='cuda:0', dtype=torch.bfloat16),\n",
       " 'model.layers.18.post_attention_layernorm.weight': tensor([ 0.6055, -0.0050,  1.6875,  ...,  1.0312,  1.2891,  1.0156],\n",
       "        device='cuda:0', dtype=torch.bfloat16),\n",
       " 'model.layers.19.input_layernorm.weight': tensor([ 0.2188,  0.2334, -0.9648,  ...,  2.0000,  2.0312, -0.5078],\n",
       "        device='cuda:0', dtype=torch.bfloat16),\n",
       " 'model.layers.19.post_attention_layernorm.weight': tensor([ 0.1289, -0.0938, -0.4297,  ...,  1.9688, -1.9062, -0.2051],\n",
       "        device='cuda:0', dtype=torch.bfloat16),\n",
       " 'model.layers.20.input_layernorm.weight': tensor([-0.0121, -0.2383, -0.3301,  ...,  0.8867,  2.0000, -0.2471],\n",
       "        device='cuda:0', dtype=torch.bfloat16),\n",
       " 'model.layers.20.post_attention_layernorm.weight': tensor([-0.5312, -1.0000,  2.0156,  ..., -0.7734, -4.0625,  1.0625],\n",
       "        device='cuda:0', dtype=torch.bfloat16),\n",
       " 'model.layers.21.input_layernorm.weight': tensor([ 0.4492, -0.3496, -0.6836,  ..., -0.6055,  1.8750,  0.2441],\n",
       "        device='cuda:0', dtype=torch.bfloat16),\n",
       " 'model.layers.21.post_attention_layernorm.weight': tensor([-0.0669, -0.1348, -0.7070,  ..., -0.1680, -2.0000, -1.9609],\n",
       "        device='cuda:0', dtype=torch.bfloat16),\n",
       " 'model.layers.22.input_layernorm.weight': tensor([ 0.3145, -0.2012, -0.2197,  ..., -0.1846,  0.0238, -0.3613],\n",
       "        device='cuda:0', dtype=torch.bfloat16),\n",
       " 'model.layers.22.post_attention_layernorm.weight': tensor([-0.0850, -1.0312, -2.0625,  ...,  1.7422, -1.3516, -0.7500],\n",
       "        device='cuda:0', dtype=torch.bfloat16),\n",
       " 'model.layers.23.input_layernorm.weight': tensor([ 0.0410, -0.0840, -0.5234,  ..., -0.5156,  0.1035,  0.8320],\n",
       "        device='cuda:0', dtype=torch.bfloat16),\n",
       " 'model.layers.23.post_attention_layernorm.weight': tensor([ 0.1436,  0.3887, -2.0000,  ...,  0.3164, -0.1021, -2.0000],\n",
       "        device='cuda:0', dtype=torch.bfloat16),\n",
       " 'model.layers.24.input_layernorm.weight': tensor([-0.0752,  0.1758,  0.3262,  ..., -0.0835, -0.5156, -0.3262],\n",
       "        device='cuda:0', dtype=torch.bfloat16),\n",
       " 'model.layers.24.post_attention_layernorm.weight': tensor([ 0.3125,  0.1270, -1.7422,  ..., -0.1240, -0.2832,  0.6602],\n",
       "        device='cuda:0', dtype=torch.bfloat16),\n",
       " 'model.layers.25.input_layernorm.weight': tensor([ 0.1396,  0.2773, -1.0703,  ...,  0.0835, -0.4980, -0.2158],\n",
       "        device='cuda:0', dtype=torch.bfloat16),\n",
       " 'model.layers.25.post_attention_layernorm.weight': tensor([ 0.5859, -0.7539,  1.5703,  ...,  0.0266, -0.5742,  0.7344],\n",
       "        device='cuda:0', dtype=torch.bfloat16),\n",
       " 'model.layers.26.input_layernorm.weight': tensor([-0.5078, -0.2578,  1.1328,  ..., -0.0121,  0.5508, -0.5039],\n",
       "        device='cuda:0', dtype=torch.bfloat16),\n",
       " 'model.layers.26.post_attention_layernorm.weight': tensor([-0.6758, -0.4551, -0.3926,  ...,  0.5820, -0.3320, -0.3184],\n",
       "        device='cuda:0', dtype=torch.bfloat16),\n",
       " 'model.layers.27.input_layernorm.weight': tensor([-0.1455, -0.1279, -1.0859,  ..., -0.0806, -0.0154,  0.1348],\n",
       "        device='cuda:0', dtype=torch.bfloat16),\n",
       " 'model.layers.27.post_attention_layernorm.weight': tensor([ 0.2236,  0.4844, -1.0078,  ...,  0.7578,  0.9336, -0.6602],\n",
       "        device='cuda:0', dtype=torch.bfloat16),\n",
       " 'model.layers.28.input_layernorm.weight': tensor([-0.1963, -0.0913, -0.6367,  ..., -0.1768, -0.7891, -0.3848],\n",
       "        device='cuda:0', dtype=torch.bfloat16),\n",
       " 'model.layers.28.post_attention_layernorm.weight': tensor([-0.8750, -0.0679, -0.0972,  ..., -0.9492,  0.3516, -0.0142],\n",
       "        device='cuda:0', dtype=torch.bfloat16),\n",
       " 'model.layers.29.input_layernorm.weight': tensor([ 0.0162, -0.2656, -0.7227,  ...,  0.2539, -0.5117,  0.1484],\n",
       "        device='cuda:0', dtype=torch.bfloat16),\n",
       " 'model.layers.29.post_attention_layernorm.weight': tensor([-0.1118,  0.4531, -0.9688,  ...,  0.7188, -0.6250, -0.1260],\n",
       "        device='cuda:0', dtype=torch.bfloat16),\n",
       " 'model.layers.30.input_layernorm.weight': tensor([ 0.2832,  0.0359, -0.0674,  ..., -0.1387, -0.0791,  0.2002],\n",
       "        device='cuda:0', dtype=torch.bfloat16),\n",
       " 'model.layers.30.post_attention_layernorm.weight': tensor([ 0.2090,  0.7500,  0.1118,  ..., -0.1689, -1.0000,  0.5508],\n",
       "        device='cuda:0', dtype=torch.bfloat16),\n",
       " 'model.layers.31.input_layernorm.weight': tensor([ 0.0864, -0.2500,  0.5352,  ...,  0.1816,  0.2695,  0.4648],\n",
       "        device='cuda:0', dtype=torch.bfloat16),\n",
       " 'model.layers.31.post_attention_layernorm.weight': tensor([-0.3672,  0.5039,  0.1543,  ...,  0.3496, -0.5664,  0.2754],\n",
       "        device='cuda:0', dtype=torch.bfloat16),\n",
       " 'model.layers.32.input_layernorm.weight': tensor([-0.2002,  0.0143,  0.7109,  ...,  0.0188,  0.0079, -0.3066],\n",
       "        device='cuda:0', dtype=torch.bfloat16),\n",
       " 'model.layers.32.post_attention_layernorm.weight': tensor([ 0.1309,  0.7695,  0.5586,  ..., -0.0344,  0.9062,  0.0923],\n",
       "        device='cuda:0', dtype=torch.bfloat16),\n",
       " 'model.layers.33.input_layernorm.weight': tensor([ 0.1689, -0.1260,  0.1182,  ...,  0.0366, -0.1328, -0.6055],\n",
       "        device='cuda:0', dtype=torch.bfloat16),\n",
       " 'model.layers.33.post_attention_layernorm.weight': tensor([ 0.2061, -0.5898,  1.2422,  ..., -0.1367, -0.1167,  0.5195],\n",
       "        device='cuda:0', dtype=torch.bfloat16),\n",
       " 'model.layers.34.input_layernorm.weight': tensor([-0.0015, -0.0996, -0.0215,  ...,  0.1885,  0.1445, -0.5117],\n",
       "        device='cuda:0', dtype=torch.bfloat16),\n",
       " 'model.layers.34.post_attention_layernorm.weight': tensor([ 0.3730, -0.4863,  0.2500,  ..., -0.2676, -1.0078, -0.5898],\n",
       "        device='cuda:0', dtype=torch.bfloat16),\n",
       " 'model.layers.35.input_layernorm.weight': tensor([-1.0000,  0.3379, -1.0000,  ..., -0.5039,  0.5234,  0.6367],\n",
       "        device='cuda:0', dtype=torch.bfloat16),\n",
       " 'model.layers.35.post_attention_layernorm.weight': tensor([-0.5273, -0.5352, -0.8086,  ..., -0.8672,  0.5391, -0.3027],\n",
       "        device='cuda:0', dtype=torch.bfloat16),\n",
       " 'model.layers.36.input_layernorm.weight': tensor([ 0.2334,  1.0078, -2.0469,  ..., -0.1011, -0.3809,  0.1099],\n",
       "        device='cuda:0', dtype=torch.bfloat16),\n",
       " 'model.layers.36.post_attention_layernorm.weight': tensor([-0.2969, -1.0938,  2.0000,  ..., -1.0312, -0.0879, -0.1650],\n",
       "        device='cuda:0', dtype=torch.bfloat16),\n",
       " 'model.layers.37.input_layernorm.weight': tensor([ 0.4707,  0.1816, -1.6016,  ..., -0.7695,  0.2832,  0.6406],\n",
       "        device='cuda:0', dtype=torch.bfloat16),\n",
       " 'model.layers.37.post_attention_layernorm.weight': tensor([-0.0045,  2.0000, -2.0000,  ..., -0.5469,  0.8516, -1.0000],\n",
       "        device='cuda:0', dtype=torch.bfloat16),\n",
       " 'model.layers.38.input_layernorm.weight': tensor([-0.6758,  0.0869,  1.0703,  ...,  0.3691,  0.1621, -0.3945],\n",
       "        device='cuda:0', dtype=torch.bfloat16),\n",
       " 'model.layers.38.post_attention_layernorm.weight': tensor([ 1.0156, -0.4883, -0.1650,  ..., -0.4043,  0.1582,  0.0214],\n",
       "        device='cuda:0', dtype=torch.bfloat16),\n",
       " 'model.layers.39.input_layernorm.weight': tensor([ 1.1562,  1.5312,  0.0957,  ...,  0.1982,  1.1562, -0.3594],\n",
       "        device='cuda:0', dtype=torch.bfloat16),\n",
       " 'model.layers.39.post_attention_layernorm.weight': tensor([-1.0859,  0.5977, -0.6953,  ..., -0.3320, -1.1094, -0.5625],\n",
       "        device='cuda:0', dtype=torch.bfloat16),\n",
       " 'model.norm.weight': tensor([ 2.0000, -0.2520, -0.5391,  ..., -0.4824,  2.0469, -0.7109],\n",
       "        device='cuda:0', dtype=torch.bfloat16),\n",
       " 'lm_head.weight': tensor([-0.0002,  0.0004,  0.0003,  ..., -0.0039, -0.0048,  0.0020],\n",
       "        device='cuda:0', dtype=torch.bfloat16)}"
      ]
     },
     "execution_count": 6,
     "metadata": {},
     "output_type": "execute_result"
    }
   ],
   "source": [
    "tr_grad_dict[0]"
   ]
  },
  {
   "cell_type": "markdown",
   "id": "6f47b2ec",
   "metadata": {},
   "source": [
    "## Compute the influence function\n",
    " - We compute the inverse Hessian vector product first using `compute_hvps()`. With the argument `compute_accurate=True`, the exact influence function value will be computed. (it may take an hour to compute).\n",
    "<!--  - Here, we take a look at the first five validation data points. -->"
   ]
  },
  {
   "cell_type": "code",
   "execution_count": null,
   "id": "94703c8c",
   "metadata": {},
   "outputs": [
    {
     "name": "stderr",
     "output_type": "stream",
     "text": [
      "  0%|          | 0/100 [00:01<?, ?it/s]\n"
     ]
    },
    {
     "ename": "RuntimeError",
     "evalue": "Expected all tensors to be on the same device, but found at least two devices, cuda:0 and cpu!",
     "output_type": "error",
     "traceback": [
      "\u001b[0;31m---------------------------------------------------------------------------\u001b[0m",
      "\u001b[0;31mRuntimeError\u001b[0m                              Traceback (most recent call last)",
      "Cell \u001b[0;32mIn[7], line 3\u001b[0m\n\u001b[1;32m      1\u001b[0m influence_engine \u001b[38;5;241m=\u001b[39m IFEngineGeneration()\n\u001b[1;32m      2\u001b[0m influence_engine\u001b[38;5;241m.\u001b[39mpreprocess_gradients(tr_grad_dict, val_grad_dict)\n\u001b[0;32m----> 3\u001b[0m influence_engine\u001b[38;5;241m.\u001b[39mcompute_hvps()\n\u001b[1;32m      4\u001b[0m influence_engine\u001b[38;5;241m.\u001b[39mcompute_IF()\n",
      "File \u001b[0;32m/nas02/Hadi/Incontenxt-influence/DataInf/notebooks/../src/influence.py:154\u001b[0m, in \u001b[0;36mIFEngineGeneration.compute_hvps\u001b[0;34m(self, lambda_const_param)\u001b[0m\n\u001b[1;32m    152\u001b[0m \u001b[38;5;28;01mdef\u001b[39;00m \u001b[38;5;21mcompute_hvps\u001b[39m(\u001b[38;5;28mself\u001b[39m, lambda_const_param\u001b[38;5;241m=\u001b[39m\u001b[38;5;241m10\u001b[39m):\n\u001b[1;32m    153\u001b[0m     \u001b[38;5;28mself\u001b[39m\u001b[38;5;241m.\u001b[39mcompute_hvp_identity()\n\u001b[0;32m--> 154\u001b[0m     \u001b[38;5;28mself\u001b[39m\u001b[38;5;241m.\u001b[39mcompute_hvp_proposed(lambda_const_param\u001b[38;5;241m=\u001b[39mlambda_const_param)\n",
      "File \u001b[0;32m/nas02/Hadi/Incontenxt-influence/DataInf/notebooks/../src/influence.py:178\u001b[0m, in \u001b[0;36mIFEngineGeneration.compute_hvp_proposed\u001b[0;34m(self, lambda_const_param)\u001b[0m\n\u001b[1;32m    176\u001b[0m             tmp_grad \u001b[38;5;241m=\u001b[39m \u001b[38;5;28mself\u001b[39m\u001b[38;5;241m.\u001b[39mtr_grad_dict[tr_id][weight_name]\n\u001b[1;32m    177\u001b[0m             C_tmp \u001b[38;5;241m=\u001b[39m torch\u001b[38;5;241m.\u001b[39msum(\u001b[38;5;28mself\u001b[39m\u001b[38;5;241m.\u001b[39mval_grad_dict[val_id][weight_name] \u001b[38;5;241m*\u001b[39m tmp_grad) \u001b[38;5;241m/\u001b[39m (lambda_const \u001b[38;5;241m+\u001b[39m torch\u001b[38;5;241m.\u001b[39msum(tmp_grad\u001b[38;5;241m*\u001b[39m\u001b[38;5;241m*\u001b[39m\u001b[38;5;241m2\u001b[39m))\n\u001b[0;32m--> 178\u001b[0m             hvp \u001b[38;5;241m+\u001b[39m\u001b[38;5;241m=\u001b[39m (\u001b[38;5;28mself\u001b[39m\u001b[38;5;241m.\u001b[39mval_grad_dict[val_id][weight_name] \u001b[38;5;241m-\u001b[39m C_tmp\u001b[38;5;241m*\u001b[39mtmp_grad) \u001b[38;5;241m/\u001b[39m (\u001b[38;5;28mself\u001b[39m\u001b[38;5;241m.\u001b[39mn_train\u001b[38;5;241m*\u001b[39mlambda_const)\n\u001b[1;32m    179\u001b[0m         hvp_proposed_dict[val_id][weight_name] \u001b[38;5;241m=\u001b[39m hvp\n\u001b[1;32m    180\u001b[0m \u001b[38;5;28mself\u001b[39m\u001b[38;5;241m.\u001b[39mhvp_dict[\u001b[38;5;124m'\u001b[39m\u001b[38;5;124mproposed\u001b[39m\u001b[38;5;124m'\u001b[39m] \u001b[38;5;241m=\u001b[39m hvp_proposed_dict\n",
      "\u001b[0;31mRuntimeError\u001b[0m: Expected all tensors to be on the same device, but found at least two devices, cuda:0 and cpu!"
     ]
    }
   ],
   "source": [
    "influence_engine = IFEngineGeneration()\n",
    "influence_engine.preprocess_gradients(tr_grad_dict, val_grad_dict)\n",
    "influence_engine.compute_hvps()\n",
    "influence_engine.compute_IF()"
   ]
  },
  {
   "cell_type": "markdown",
   "id": "eb6f625e",
   "metadata": {},
   "source": [
    "## Attributes of influence_engine\n",
    "There are a couple of useful attributes in `influence_engine`. For intance, to compare the runtime, one case use `time_dict`."
   ]
  },
  {
   "cell_type": "code",
   "execution_count": null,
   "id": "7321f6af",
   "metadata": {},
   "outputs": [
    {
     "data": {
      "text/plain": [
       "defaultdict(list,\n",
       "            {'identity': 2.86102294921875e-06, 'proposed': 2037.1031358242035})"
      ]
     },
     "execution_count": 7,
     "metadata": {},
     "output_type": "execute_result"
    }
   ],
   "source": [
    "influence_engine.time_dict"
   ]
  },
  {
   "cell_type": "code",
   "execution_count": null,
   "id": "085e0d17",
   "metadata": {},
   "outputs": [
    {
     "data": {
      "text/plain": [
       "dict_keys(['identity', 'proposed'])"
      ]
     },
     "execution_count": 8,
     "metadata": {},
     "output_type": "execute_result"
    }
   ],
   "source": [
    "influence_engine.IF_dict.keys()"
   ]
  },
  {
   "cell_type": "markdown",
   "id": "c06cc0dc",
   "metadata": {},
   "source": [
    "## Application to influential data detection task\n",
    "- We inspect the most influential data points for several validation data points."
   ]
  },
  {
   "cell_type": "code",
   "execution_count": null,
   "id": "7f588d06",
   "metadata": {},
   "outputs": [],
   "source": [
    "most_influential_data_point_proposed=influence_engine.IF_dict['proposed'].apply(lambda x: x.abs().argmax(), axis=1)\n",
    "least_influential_data_point_proposed=influence_engine.IF_dict['proposed'].apply(lambda x: x.abs().argmin(), axis=1)"
   ]
  },
  {
   "cell_type": "code",
   "execution_count": null,
   "id": "c9bef98f",
   "metadata": {},
   "outputs": [
    {
     "name": "stdout",
     "output_type": "stream",
     "text": [
      "Validation Sample ID: 0\n",
      " Solve the following math problem. Lisa ate 90 slices of pizza and her brother ate 46 slices from a pizza that originally had 97 slices. How many slices of the pizza are left? -> Answer: -39</s> \n",
      "\n",
      "The most influential training sample: \n",
      " Solve the following math problem. Lisa ate 79 slices of pizza and her brother ate 76 slices from a pizza that originally had 63 slices. How many slices of the pizza are left? -> Answer: -92</s> \n",
      "\n",
      "The least influential training sample: \n",
      " Solve the following math problem. Emily reads for 23 hours each day. How many hours does she read in total in 8 days? -> Answer: 184</s>\n"
     ]
    }
   ],
   "source": [
    "val_id=0\n",
    "print(f'Validation Sample ID: {val_id}\\n', \n",
    "      lora_engine.validation_dataset[val_id]['text'], '\\n')\n",
    "print('The most influential training sample: \\n', \n",
    "      lora_engine.train_dataset[int(most_influential_data_point_proposed.iloc[val_id])]['text'], '\\n')\n",
    "print('The least influential training sample: \\n', \n",
    "      lora_engine.train_dataset[int(least_influential_data_point_proposed.iloc[val_id])]['text'])"
   ]
  },
  {
   "cell_type": "markdown",
   "id": "e7692d6c",
   "metadata": {},
   "source": [
    "# AUC and Recall "
   ]
  },
  {
   "cell_type": "code",
   "execution_count": null,
   "id": "39b4915e",
   "metadata": {},
   "outputs": [
    {
     "name": "stdout",
     "output_type": "stream",
     "text": [
      "identity AUC: 0.769/0.182\n",
      "proposed AUC: 1.000/0.000\n"
     ]
    }
   ],
   "source": [
    "import numpy as np\n",
    "import pandas as pd\n",
    "from sklearn.metrics import roc_auc_score\n",
    "\n",
    "identity_df=influence_engine.IF_dict['identity']\n",
    "proposed_df=influence_engine.IF_dict['proposed']\n",
    "\n",
    "n_train, n_val = 900, 100\n",
    "n_sample_per_class = 90 \n",
    "n_class = 10\n",
    "\n",
    "identity_auc_list, proposed_auc_list=[], []\n",
    "for i in range(n_val):\n",
    "    gt_array=np.zeros(n_train)\n",
    "    gt_array[(i//n_class)*n_sample_per_class:((i//n_class)+1)*n_sample_per_class]=1\n",
    "    \n",
    "    identity_auc_list.append(roc_auc_score(gt_array, (identity_df.iloc[i,:].to_numpy())))\n",
    "    proposed_auc_list.append(roc_auc_score(gt_array, (proposed_df.iloc[i,:].to_numpy())))\n",
    "    \n",
    "print(f'identity AUC: {np.mean(identity_auc_list):.3f}/{np.std(identity_auc_list):.3f}')\n",
    "print(f'proposed AUC: {np.mean(proposed_auc_list):.3f}/{np.std(proposed_auc_list):.3f}')"
   ]
  },
  {
   "cell_type": "code",
   "execution_count": null,
   "id": "baa20253",
   "metadata": {},
   "outputs": [
    {
     "name": "stdout",
     "output_type": "stream",
     "text": [
      "identity Recall: 0.292/0.401\n",
      "proposed Recall: 0.998/0.013\n"
     ]
    }
   ],
   "source": [
    "# Recall calculations\n",
    "identity_recall_list, proposed_recall_list=[], []\n",
    "for i in range(n_val):\n",
    "    correct_label = i // 10\n",
    "    sorted_labels = np.argsort(np.abs(identity_df.iloc[i].values))[::-1] // 90\n",
    "    recall_identity = np.count_nonzero(sorted_labels[0:90] == correct_label) / 90.0\n",
    "    identity_recall_list.append(recall_identity)\n",
    "    \n",
    "    sorted_labels = np.argsort(np.abs(proposed_df.iloc[i].values))[::-1] // 90\n",
    "    recall_proposed = np.count_nonzero(sorted_labels[0:90] == correct_label) / 90.0\n",
    "    proposed_recall_list.append(recall_proposed)\n",
    "    \n",
    "print(f'identity Recall: {np.mean(identity_recall_list):.3f}/{np.std(identity_recall_list):.3f}')\n",
    "print(f'proposed Recall: {np.mean(proposed_recall_list):.3f}/{np.std(proposed_recall_list):.3f}')"
   ]
  },
  {
   "cell_type": "code",
   "execution_count": null,
   "id": "ae1da851",
   "metadata": {},
   "outputs": [],
   "source": []
  },
  {
   "cell_type": "code",
   "execution_count": null,
   "id": "c0f4fab8",
   "metadata": {},
   "outputs": [],
   "source": []
  }
 ],
 "metadata": {
  "kernelspec": {
   "display_name": "Python 3 (ipykernel)",
   "language": "python",
   "name": "python3"
  },
  "language_info": {
   "codemirror_mode": {
    "name": "ipython",
    "version": 3
   },
   "file_extension": ".py",
   "mimetype": "text/x-python",
   "name": "python",
   "nbconvert_exporter": "python",
   "pygments_lexer": "ipython3",
   "version": "3.11.7"
  }
 },
 "nbformat": 4,
 "nbformat_minor": 5
}

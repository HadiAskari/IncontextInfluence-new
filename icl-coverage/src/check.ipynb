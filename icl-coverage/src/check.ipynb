{
 "cells": [
  {
   "cell_type": "code",
   "execution_count": 1,
   "metadata": {},
   "outputs": [],
   "source": [
    "import pickle as pkl"
   ]
  },
  {
   "cell_type": "code",
   "execution_count": 25,
   "metadata": {},
   "outputs": [
    {
     "name": "stdout",
     "output_type": "stream",
     "text": [
      "loaded pickle\n",
      "4151259.25\n",
      "911    857\n",
      "910      8\n",
      "909    564\n",
      "908      0\n",
      "907    200\n",
      "906     72\n",
      "905      9\n",
      "904     80\n",
      "Name: 0, dtype: int64\n"
     ]
    }
   ],
   "source": [
    "with open('./results_save_influencemmlu.pkl', 'rb') as f:\n",
    "    IF_dict=pkl.load(f)\n",
    "print('loaded pickle')\n",
    "print(IF_dict['influence']['proposed'].iloc[0][564])\n",
    "sorted_influences=IF_dict['influence']['proposed'].apply(lambda x: x.argsort(), axis=1)\n",
    "print(sorted_influences.iloc[0][::-1][0:8])"
   ]
  },
  {
   "cell_type": "code",
   "execution_count": 12,
   "metadata": {},
   "outputs": [
    {
     "data": {
      "text/html": [
       "<div>\n",
       "<style scoped>\n",
       "    .dataframe tbody tr th:only-of-type {\n",
       "        vertical-align: middle;\n",
       "    }\n",
       "\n",
       "    .dataframe tbody tr th {\n",
       "        vertical-align: top;\n",
       "    }\n",
       "\n",
       "    .dataframe thead th {\n",
       "        text-align: right;\n",
       "    }\n",
       "</style>\n",
       "<table border=\"1\" class=\"dataframe\">\n",
       "  <thead>\n",
       "    <tr style=\"text-align: right;\">\n",
       "      <th></th>\n",
       "      <th>0</th>\n",
       "      <th>1</th>\n",
       "      <th>2</th>\n",
       "      <th>3</th>\n",
       "      <th>4</th>\n",
       "      <th>5</th>\n",
       "      <th>6</th>\n",
       "      <th>7</th>\n",
       "      <th>8</th>\n",
       "      <th>9</th>\n",
       "      <th>...</th>\n",
       "      <th>902</th>\n",
       "      <th>903</th>\n",
       "      <th>904</th>\n",
       "      <th>905</th>\n",
       "      <th>906</th>\n",
       "      <th>907</th>\n",
       "      <th>908</th>\n",
       "      <th>909</th>\n",
       "      <th>910</th>\n",
       "      <th>911</th>\n",
       "    </tr>\n",
       "  </thead>\n",
       "  <tbody>\n",
       "    <tr>\n",
       "      <th>0</th>\n",
       "      <td>4107860.5</td>\n",
       "      <td>3073686.0</td>\n",
       "      <td>3512188.25</td>\n",
       "      <td>2999875.5</td>\n",
       "      <td>2360051.75</td>\n",
       "      <td>2956205.5</td>\n",
       "      <td>3805060.0</td>\n",
       "      <td>3289481.25</td>\n",
       "      <td>4170092.0</td>\n",
       "      <td>3961953.25</td>\n",
       "      <td>...</td>\n",
       "      <td>2215516.5</td>\n",
       "      <td>2451232.0</td>\n",
       "      <td>2397076.5</td>\n",
       "      <td>3126237.0</td>\n",
       "      <td>2241252.75</td>\n",
       "      <td>888607.875</td>\n",
       "      <td>2274204.25</td>\n",
       "      <td>2970413.5</td>\n",
       "      <td>2058631.25</td>\n",
       "      <td>2544129.25</td>\n",
       "    </tr>\n",
       "  </tbody>\n",
       "</table>\n",
       "<p>1 rows × 912 columns</p>\n",
       "</div>"
      ],
      "text/plain": [
       "         0          1           2          3           4          5    \\\n",
       "0  4107860.5  3073686.0  3512188.25  2999875.5  2360051.75  2956205.5   \n",
       "\n",
       "         6           7          8           9    ...        902        903  \\\n",
       "0  3805060.0  3289481.25  4170092.0  3961953.25  ...  2215516.5  2451232.0   \n",
       "\n",
       "         904        905         906         907         908        909  \\\n",
       "0  2397076.5  3126237.0  2241252.75  888607.875  2274204.25  2970413.5   \n",
       "\n",
       "          910         911  \n",
       "0  2058631.25  2544129.25  \n",
       "\n",
       "[1 rows x 912 columns]"
      ]
     },
     "execution_count": 12,
     "metadata": {},
     "output_type": "execute_result"
    }
   ],
   "source": []
  },
  {
   "cell_type": "code",
   "execution_count": null,
   "metadata": {},
   "outputs": [],
   "source": []
  }
 ],
 "metadata": {
  "kernelspec": {
   "display_name": "influence",
   "language": "python",
   "name": "python3"
  },
  "language_info": {
   "codemirror_mode": {
    "name": "ipython",
    "version": 3
   },
   "file_extension": ".py",
   "mimetype": "text/x-python",
   "name": "python",
   "nbconvert_exporter": "python",
   "pygments_lexer": "ipython3",
   "version": "3.11.7"
  }
 },
 "nbformat": 4,
 "nbformat_minor": 2
}
